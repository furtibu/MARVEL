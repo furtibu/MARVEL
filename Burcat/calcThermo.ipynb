{
  "nbformat": 4,
  "nbformat_minor": 0,
  "metadata": {
    "colab": {
      "provenance": [],
      "authorship_tag": "ABX9TyM9UEfpq7OeB+JQipXRogrf",
      "include_colab_link": true
    },
    "kernelspec": {
      "name": "python3",
      "display_name": "Python 3"
    },
    "language_info": {
      "name": "python"
    }
  },
  "cells": [
    {
      "cell_type": "markdown",
      "metadata": {
        "id": "view-in-github",
        "colab_type": "text"
      },
      "source": [
        "<a href=\"https://colab.research.google.com/github/furtibu/MARVEL/blob/main/Burcat/calcThermo.ipynb\" target=\"_parent\"><img src=\"https://colab.research.google.com/assets/colab-badge.svg\" alt=\"Open In Colab\"/></a>"
      ]
    },
    {
      "cell_type": "code",
      "execution_count": null,
      "metadata": {
        "colab": {
          "base_uri": "https://localhost:8080/"
        },
        "id": "FHzNSmvyZrxO",
        "outputId": "84e5d174-b6f5-4b56-9b7f-a516749a95cf"
      },
      "outputs": [
        {
          "output_type": "stream",
          "name": "stdout",
          "text": [
            "<coef name=\"a1\">1.65326226E+00</coef>\n",
            "<coef name=\"a2\">1.00263099E-02</coef>\n",
            "<coef name=\"a3\">-3.31661238E-06</coef>\n",
            "<coef name=\"a4\">5.36483138E-10</coef>\n",
            "<coef name=\"a5\">-3.14696758E-14</coef>\n",
            "<coef name=\"a6\">-1.00095936E+04</coef>\n",
            "<coef name=\"a7\">9.90506283E+00</coef>\n"
          ]
        }
      ],
      "source": [
        "import requests\n",
        "import xml.etree.ElementTree as ET\n",
        "from lxml import etree\n",
        "\n",
        "from bs4 import BeautifulSoup\n",
        "import lxml\n",
        "\n",
        "url = \"https://raw.githubusercontent.com/furtibu/MARVEL/refs/heads/main/Burcat/CH4.xml\"\n",
        "\n",
        "response = requests.get(url)\n",
        "\n",
        "soup = BeautifulSoup(response.text, 'xml')\n",
        "\n",
        "for range in soup.find_all('range_1000_to_Tmax'):\n",
        "  for coef in range.find_all('coef'):\n",
        "    print(coef)\n",
        "\n",
        "\n"
      ]
    }
  ]
}